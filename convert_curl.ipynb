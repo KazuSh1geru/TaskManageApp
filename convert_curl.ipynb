{
  "nbformat": 4,
  "nbformat_minor": 0,
  "metadata": {
    "colab": {
      "provenance": [],
      "authorship_tag": "ABX9TyPzs7rkCMHNiuZ3fOc0OnX5",
      "include_colab_link": true
    },
    "kernelspec": {
      "name": "python3",
      "display_name": "Python 3"
    },
    "language_info": {
      "name": "python"
    }
  },
  "cells": [
    {
      "cell_type": "markdown",
      "metadata": {
        "id": "view-in-github",
        "colab_type": "text"
      },
      "source": [
        "<a href=\"https://colab.research.google.com/github/KazuSh1geru/TaskManageApp/blob/master/convert_curl.ipynb\" target=\"_parent\"><img src=\"https://colab.research.google.com/assets/colab-badge.svg\" alt=\"Open In Colab\"/></a>"
      ]
    },
    {
      "cell_type": "markdown",
      "source": [
        "簡単なテスト"
      ],
      "metadata": {
        "id": "u-KxCcLOIgKi"
      }
    },
    {
      "cell_type": "code",
      "execution_count": null,
      "metadata": {
        "id": "krlsZnal8MRy"
      },
      "outputs": [],
      "source": [
        "import requests"
      ]
    },
    {
      "cell_type": "code",
      "source": [
        "url = \"https://qiita.com/sqrtxx/items/49beaa3795925e7de666\"\n",
        "requests.get(url)"
      ],
      "metadata": {
        "colab": {
          "base_uri": "https://localhost:8080/"
        },
        "id": "HSEKTQN381pT",
        "outputId": "afa04f45-4b29-4f0f-c9fd-232974bd4c60"
      },
      "execution_count": null,
      "outputs": [
        {
          "output_type": "execute_result",
          "data": {
            "text/plain": [
              "<Response [200]>"
            ]
          },
          "metadata": {},
          "execution_count": 3
        }
      ]
    },
    {
      "cell_type": "markdown",
      "source": [
        "header指定して送信"
      ],
      "metadata": {
        "id": "AurMxgEnAuMX"
      }
    },
    {
      "cell_type": "markdown",
      "source": [
        "## 元コード"
      ],
      "metadata": {
        "id": "sobq-vKoHc3B"
      }
    },
    {
      "cell_type": "code",
      "source": [
        "!curl -H 'X-porters-hrbc-oauth-token:d41beac1e328d00bd7b0277cedf5d9eb' https://api-hrbc-jp.porterscloud.com/v1/partition?request_type=0&count=1&start=0"
      ],
      "metadata": {
        "colab": {
          "base_uri": "https://localhost:8080/"
        },
        "id": "gBbdjhcsDh4M",
        "outputId": "bad48f36-ea5d-4a81-cfcd-0e2a26091292"
      },
      "execution_count": null,
      "outputs": [
        {
          "output_type": "stream",
          "name": "stdout",
          "text": [
            "<?xml version=\"1.0\" encoding=\"UTF-8\" standalone=\"yes\"?><System><Code>401</Code></System>"
          ]
        }
      ]
    },
    {
      "cell_type": "markdown",
      "source": [
        "# httpリクエスト作成"
      ],
      "metadata": {
        "id": "TQrHnMCMHhvw"
      }
    },
    {
      "cell_type": "code",
      "source": [
        "params = {\n",
        "    \"request_type\": 0,\n",
        "    \"count\": 1,\n",
        "    \"start\": 0\n",
        "}"
      ],
      "metadata": {
        "id": "8lUw0ppYAs6g"
      },
      "execution_count": null,
      "outputs": []
    },
    {
      "cell_type": "code",
      "source": [
        "# 書き方はどっち？\n",
        "# headers = {'X-porters-hrbc-oauth-token': 'X-porters-hrbc-oauth-token:d41beac1e328d00bd7b0277cedf5d9eb'}\n",
        "headers = {'X-porters-hrbc-oauth-token': 'd41beac1e328d00bd7b0277cedf5d9eb'}"
      ],
      "metadata": {
        "id": "KBH_anfVAsvT"
      },
      "execution_count": null,
      "outputs": []
    },
    {
      "cell_type": "code",
      "source": [
        "# url = f'https://api-hrbc-jp.porterscloud.com/v1/partition\\?request_type\\={params[\"request_type\"]}\\&count\\={params[\"count\"]}\\&start\\={params[\"start\"]}'\n",
        "url = 'https://api-hrbc-jp.porterscloud.com/v1/partition'\n",
        "req = requests.get(url, headers=headers, params=params)\n",
        "req.text"
      ],
      "metadata": {
        "colab": {
          "base_uri": "https://localhost:8080/",
          "height": 35
        },
        "id": "eQnBYVnYHKF-",
        "outputId": "274cfd1d-948d-49e1-e9b4-9370a6a168b2"
      },
      "execution_count": null,
      "outputs": [
        {
          "output_type": "execute_result",
          "data": {
            "text/plain": [
              "'<?xml version=\"1.0\" encoding=\"UTF-8\" standalone=\"yes\"?><System><Code>401</Code></System>'"
            ],
            "application/vnd.google.colaboratory.intrinsic+json": {
              "type": "string"
            }
          },
          "metadata": {},
          "execution_count": 25
        }
      ]
    },
    {
      "cell_type": "code",
      "source": [
        "req"
      ],
      "metadata": {
        "colab": {
          "base_uri": "https://localhost:8080/"
        },
        "id": "7Vqg9jt-H1oK",
        "outputId": "d72cbbf6-a984-411c-bb16-f7ca4222a4ea"
      },
      "execution_count": null,
      "outputs": [
        {
          "output_type": "execute_result",
          "data": {
            "text/plain": [
              "<Response [200]>"
            ]
          },
          "metadata": {},
          "execution_count": 26
        }
      ]
    },
    {
      "cell_type": "markdown",
      "source": [
        "### 参照サイト\n",
        "http リクエストについて\n",
        "- https://qiita.com/sqrtxx/items/49beaa3795925e7de666\n",
        "\n",
        "curlについて\n",
        "- https://qiita.com/yasuhiroki/items/a569d3371a66e365316f#curl%E3%82%B3%E3%83%9E%E3%83%B3%E3%83%89%E3%81%AF%E4%BE%BF%E5%88%A9\n",
        "\n",
        "### API仕様\n",
        "- https://hrbcapi.porters.jp/hc/ja/articles/115012006227-Partition-Read"
      ],
      "metadata": {
        "id": "Bw2T6SA-_NRv"
      }
    }
  ]
}